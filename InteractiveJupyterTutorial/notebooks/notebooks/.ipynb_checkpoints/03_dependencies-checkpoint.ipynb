{
 "cells": [
  {
   "cell_type": "markdown",
   "metadata": {},
   "source": [
    "You may want to make use of parts of .net that aren't default opened"
   ]
  },
  {
   "cell_type": "code",
   "execution_count": 32,
   "metadata": {},
   "outputs": [
    {
     "name": "stderr",
     "output_type": "stream",
     "text": [
      "The value, constructor, namespace or type 'DataVisualization' is not defined."
     ]
    }
   ],
   "source": [
    "System.Windows.Forms.DataVisualization"
   ]
  },
  {
   "cell_type": "code",
   "execution_count": 33,
   "metadata": {},
   "outputs": [],
   "source": [
    "#r \"System.Windows.Forms.DataVisualization.dll\""
   ]
  },
  {
   "cell_type": "code",
   "execution_count": 34,
   "metadata": {},
   "outputs": [
    {
     "data": {
      "text/plain": [
       "System.Windows.Forms.DataVisualization.Charting.Point3D"
      ]
     },
     "execution_count": 34,
     "metadata": {},
     "output_type": "execute_result"
    }
   ],
   "source": [
    "System.Windows.Forms.DataVisualization.Charting.Point3D()"
   ]
  },
  {
   "cell_type": "markdown",
   "metadata": {},
   "source": [
    "You can also use this with your own libraries:"
   ]
  },
  {
   "cell_type": "code",
   "execution_count": 35,
   "metadata": {},
   "outputs": [],
   "source": [
    "#r \"../../IfSharp.v3.0.1/Newtonsoft.Json.dll\""
   ]
  },
  {
   "cell_type": "markdown",
   "metadata": {},
   "source": [
    "Paket https://fsprojects.github.io/Paket/ (NuGet client)"
   ]
  },
  {
   "cell_type": "code",
   "execution_count": 36,
   "metadata": {},
   "outputs": [
    {
     "name": "stderr",
     "output_type": "stream",
     "text": [
      "Expression evaluation failed: Unable to retrieve package versions for 'FSharp.Core'\r\n",
      "-- CLOSED --\r\n",
      "   \r\n",
      "-- OPEN ----\r\n",
      "   FSharp.Core 4.5.2 (from C:\\Users\\MukundRaghavSharma\\Desktop\\F#\\OpenFSharp2018\\InteractiveJupyterTutorial\\IfSharp.v3.0.1\\paket.dependencies)\r\n",
      "ExceptionUnable to retrieve package versions for 'FSharp.Core'\r\n",
      "-- CLOSED --\r\n",
      "   \r\n",
      "-- OPEN ----\r\n",
      "   FSharp.Core 4.5.2 (from C:\\Users\\MukundRaghavSharma\\Desktop\\F#\\OpenFSharp2018\\InteractiveJupyterTutorial\\IfSharp.v3.0.1\\paket.dependencies)\r\n",
      "   at Paket.PackageResolver.getVersionsBlock@1057-1.GenerateNext(IEnumerable`1& next)\r\n",
      "   at Microsoft.FSharp.Core.CompilerServices.GeneratedSequenceBase`1.MoveNextImpl()\r\n",
      "   at Microsoft.FSharp.Collections.SeqModule.oneStepTo@979[T](IEnumerable`1 source, List`1 prefix, FSharpRef`1 enumeratorR, Int32 i)\r\n",
      "   at Microsoft.FSharp.Collections.SeqModule.action@4251-1[T](IEnumerable`1 source, List`1 prefix, FSharpRef`1 enumeratorR, Int32 i, Unit unitVar0)\r\n",
      "   at Microsoft.FSharp.Collections.SeqModule.result@995.Invoke(Int32 i)\r\n",
      "   at Microsoft.FSharp.Collections.Internal.IEnumerator.unfold@199.DoMoveNext(b& curr)\r\n",
      "   at Microsoft.FSharp.Collections.Internal.IEnumerator.MapEnumerator`1.System-Collections-IEnumerator-MoveNext()\r\n",
      "   at Microsoft.FSharp.Collections.Internal.IEnumerator.map@74.DoMoveNext(b& curr)\r\n",
      "   at Microsoft.FSharp.Collections.Internal.IEnumerator.MapEnumerator`1.System-Collections-IEnumerator-MoveNext()\r\n",
      "   at Microsoft.FSharp.Collections.Internal.IEnumerator.next@187[T](FSharpFunc`2 f, IEnumerator`1 e, FSharpRef`1 started, Unit unitVar0)\r\n",
      "   at Microsoft.FSharp.Collections.Internal.IEnumerator.filter@182.System-Collections-IEnumerator-MoveNext()\r\n",
      "   at Microsoft.FSharp.Collections.SeqModule.IsEmpty[T](IEnumerable`1 source)\r\n",
      "   at Paket.PackageResolver.getCompatibleVersions(ResolverStep currentStep, GroupName groupName, PackageRequirement currentRequirement, IDictionary`2 rootDependencies, FSharpFunc`2 getVersionsF, Boolean globalOverride, FSharpOption`1 globalStrategyForDirectDependencies, FSharpOption`1 globalStrategyForTransitives)\r\n",
      "   at Paket.PackageResolver.step@1113(UpdateMode updateMode, GroupName groupName, FSharpOption`1 globalStrategyForTransitives, FSharpOption`1 globalStrategyForDirectDependencies, FrameworkRestrictions globalFrameworkRestrictions, FSharpFunc`2 getVersionsRaw, FSharpFunc`2 getPreferredVersionsRaw, FSharpFunc`2 getPackageDetailsRaw, FSharpSet`1 cliToolSettings, ResolverRequestQueue workerQueue, Int32 taskTimeout, TimeSpan loopTimeout, ConcurrentDictionary`2 startedGetPackageDetailsRequests, FSharpFunc`2 getPackageDetailsBlock, ConcurrentDictionary`2 startedGetVersionsRequests, FSharpOption`1 packageFilter, IDictionary`2 rootDependenciesDict, FSharpSet`1 lockedPackages, DateTime loopTime, Stage stage, StackPack stackpack, IEnumerable`1 compatibleVersions, StepFlags flags)\r\n",
      "   at Paket.PackageResolver.Resolve(FSharpFunc`2 getVersionsRaw, FSharpFunc`2 getPreferredVersionsRaw, FSharpFunc`2 getPackageDetailsRaw, GroupName groupName, FSharpOption`1 globalStrategyForDirectDependencies, FSharpOption`1 globalStrategyForTransitives, FrameworkRestrictions globalFrameworkRestrictions, FSharpSet`1 rootDependencies, UpdateMode updateMode)\r\n",
      "   at <StartupCode$Paket-Core>.$DependenciesFile.resolveGroup@222-1.Invoke(GroupName groupName, b _arg1)\r\n",
      "   at Microsoft.FSharp.Collections.MapTreeModule.mapiOpt[a,b,c](FSharpFunc`3 f, MapTree`2 m)\r\n",
      "   at Microsoft.FSharp.Collections.FSharpMap`2.Map[b](FSharpFunc`2 f)\r\n",
      "   at Paket.UpdateProcess.selectiveUpdate(Boolean force, FSharpFunc`2 getSha1, FSharpFunc`2 getVersionsF, FSharpFunc`2 getPackageDetailsF, FSharpFunc`2 getRuntimeGraphFromPackage, LockFile lockFile, DependenciesFile dependenciesFile, UpdateMode updateMode, SemVerUpdateMode semVerUpdateMode)\r\n",
      "   at Paket.UpdateProcess.SelectiveUpdate(DependenciesFile dependenciesFile, FSharpOption`1 alternativeProjectRoot, UpdateMode updateMode, SemVerUpdateMode semVerUpdateMode, Boolean force)\r\n",
      "   at Paket.RemoveProcess.remove(FSharpFunc`2 removeFromProjects, String dependenciesFileName, FSharpOption`1 alternativeProjectRoot, GroupName groupName, PackageName package, Boolean force, Boolean installAfter)\r\n",
      "   at Paket.RemoveProcess.Remove(String dependenciesFileName, FSharpOption`1 groupName, PackageName packageName, Boolean force, Boolean interactive, Boolean installAfter)\r\n",
      "   at <StartupCode$Paket-Core>.$PublicAPI.Remove@607-9.Invoke(Unit unitVar0)\r\n",
      "   at Paket.Utils.RunInLockedAccessMode[a](String lockedFolder, FSharpFunc`2 action)\r\n",
      "   at FSI_0027.Paket.add(String package, String version) in C:\\Users\\MukundRaghavSharma\\Desktop\\F#\\OpenFSharp2018\\InteractiveJupyterTutorial\\IfSharp.v3.0.1\\Paket.fsx:line 36\r\n",
      "   at FSI_0027.Paket.Version(IEnumerable`1 list) in C:\\Users\\MukundRaghavSharma\\Desktop\\F#\\OpenFSharp2018\\InteractiveJupyterTutorial\\IfSharp.v3.0.1\\Paket.fsx:line 129\r\n",
      "   at <StartupCode$FSI_0028>.$FSI_0028.main@()\r\n",
      "HttpRequestExceptionAn error occurred while sending the request.\r\n",
      "   at Paket.NetUtils._safeGetFromUrl@576-9.Invoke(Exception _arg5)\r\n",
      "   at <StartupCode$FSharp-Core>.$Async.TryWith@1113-1.Invoke(Exception exn)\r\n",
      "   at Microsoft.FSharp.Control.AsyncPrimitives.CallFilterThenInvoke[T](AsyncActivation`1 ctxt, FSharpFunc`2 catchFilter, ExceptionDispatchInfo edi)\r\n",
      "   at Microsoft.FSharp.Control.Trampoline.Execute(FSharpFunc`2 firstAction)\r\n",
      "--- End of stack trace from previous location where exception was thrown ---\r\n",
      "   at System.Runtime.ExceptionServices.ExceptionDispatchInfo.Throw()\r\n",
      "   at Paket.PackageResolver.getAndReport@994[a](Int32 taskTimeout, FSharpList`1 sources, BlockReason blockReason, ResolverTaskMemory`1 mem)\r\n",
      "   at Paket.PackageResolver.getVersionsBlock@1057-1.GenerateNext(IEnumerable`1& next)\r\n",
      "--- End of stack trace from previous location where exception was thrown ---\r\n",
      "   at System.Runtime.ExceptionServices.ExceptionDispatchInfo.Throw()\r\n",
      "   at Paket.PackageResolver.getAndReport@994[a](Int32 taskTimeout, FSharpList`1 sources, BlockReason blockReason, ResolverTaskMemory`1 mem)\r\n",
      "   at Paket.PackageResolver.getVersionsBlock@1057-1.GenerateNext(IEnumerable`1& next)\r\n",
      "--- End of stack trace from previous location where exception was thrown ---\r\n",
      "   at System.Runtime.ExceptionServices.ExceptionDispatchInfo.Throw()\r\n",
      "   at Paket.PackageResolver.getAndReport@994[a](Int32 taskTimeout, FSharpList`1 sources, BlockReason blockReason, ResolverTaskMemory`1 mem)\r\n",
      "   at Paket.PackageResolver.getVersionsBlock@1057-1.GenerateNext(IEnumerable`1& next)\r\n",
      "--- End of stack trace from previous location where exception was thrown ---\r\n",
      "   at System.Runtime.ExceptionServices.ExceptionDispatchInfo.Throw()\r\n",
      "   at Paket.PackageResolver.getAndReport@994[a](Int32 taskTimeout, FSharpList`1 sources, BlockReason blockReason, ResolverTaskMemory`1 mem)\r\n",
      "   at Paket.PackageResolver.getVersionsBlock@1057-1.GenerateNext(IEnumerable`1& next)\r\n",
      "--- End of stack trace from previous location where exception was thrown ---\r\n",
      "   at System.Runtime.ExceptionServices.ExceptionDispatchInfo.Throw()\r\n",
      "   at Paket.PackageResolver.getAndReport@994[a](Int32 taskTimeout, FSharpList`1 sources, BlockReason blockReason, ResolverTaskMemory`1 mem)\r\n",
      "   at Paket.PackageResolver.getVersionsBlock@1057-1.GenerateNext(IEnumerable`1& next)\r\n",
      "--- End of stack trace from previous location where exception was thrown ---\r\n",
      "   at System.Runtime.ExceptionServices.ExceptionDispatchInfo.Throw()\r\n",
      "   at Paket.PackageResolver.getAndReport@994[a](Int32 taskTimeout, FSharpList`1 sources, BlockReason blockReason, ResolverTaskMemory`1 mem)\r\n",
      "   at Paket.PackageResolver.getVersionsBlock@1057-1.GenerateNext(IEnumerable`1& next)\r\n",
      "WebExceptionUnable to connect to the remote server\r\n",
      "   at System.Net.HttpWebRequest.EndGetResponse(IAsyncResult asyncResult)\r\n",
      "   at System.Net.Http.HttpClientHandler.GetResponseCallback(IAsyncResult ar)\r\n",
      "SocketExceptionA connection attempt failed because the connected party did not properly respond after a period of time, or established connection failed because connected host has failed to respond 72.21.81.200:443\r\n",
      "   at System.Net.Sockets.Socket.InternalEndConnect(IAsyncResult asyncResult)\r\n",
      "   at System.Net.Sockets.Socket.EndConnect(IAsyncResult asyncResult)\r\n",
      "   at System.Net.ServicePoint.ConnectSocketInternal(Boolean connectFailure, Socket s4, Socket s6, Socket& socket, IPAddress& address, ConnectSocketState state, IAsyncResult asyncResult, Exception& exception)\r\n"
     ]
    }
   ],
   "source": [
    "#load \"Paket.fsx\"\n",
    "//Paket.Package([\"FsLab\"])\n",
    "//Paket.Version([\"FsLab\", \"1.1.5\"]) //Note not using 1.1.5 to ease connection to XPlot"
   ]
  },
  {
   "cell_type": "markdown",
   "metadata": {},
   "source": [
    "So we could #r into the FsLab "
   ]
  },
  {
   "cell_type": "code",
   "execution_count": 30,
   "metadata": {},
   "outputs": [
    {
     "name": "stderr",
     "output_type": "stream",
     "text": [
      "System.IO.FileLoadException: The given assembly name or codebase was invalid. (Exception from HRESULT: 0x80131047)\r\n",
      "   at System.Reflection.AssemblyName.nInit(RuntimeAssembly& assembly, Boolean forIntrospection, Boolean raiseResolveEvent)\r\n",
      "   at System.Reflection.AssemblyName..ctor(String assemblyName)\r\n",
      "   at Microsoft.FSharp.Compiler.SimulatedMSBuildReferenceResolver.SimulatedMSBuildResolver@29.Microsoft-FSharp-Compiler-ReferenceResolver-Resolver-Resolve(ResolutionEnvironment resolutionEnvironment, Tuple`2[] references, String targetFrameworkVersion, FSharpList`1 targetFrameworkDirectories, String targetProcessorArchitecture, String fsharpCoreDir, FSharpList`1 explicitIncludeDirs, String implicitIncludeDir, FSharpFunc`2 logMessage, FSharpFunc`2 logWarningOrError) (Code=SR001)\r\n",
      "Assembly reference './FsLab.fsx' was not found or is invalid"
     ]
    }
   ],
   "source": [
    "#r \"./FsLab.fsx\""
   ]
  },
  {
   "cell_type": "markdown",
   "metadata": {},
   "source": [
    "But it's much safer to just let Paket handle this as well (we activate this by default: https://fsprojects.github.io/Paket/paket-generate-load-scripts.html)"
   ]
  },
  {
   "cell_type": "code",
   "execution_count": 23,
   "metadata": {},
   "outputs": [],
   "source": [
    "#l \"Paket.Generated.Refs.fsx\""
   ]
  },
  {
   "cell_type": "code",
   "execution_count": 24,
   "metadata": {},
   "outputs": [
    {
     "name": "stderr",
     "output_type": "stream",
     "text": [
      "The namespace or module 'Deedle' is not defined."
     ]
    }
   ],
   "source": [
    "open System\n",
    "open Deedle"
   ]
  },
  {
   "cell_type": "markdown",
   "metadata": {},
   "source": [
    "http://fslaborg.github.io/Deedle/tutorial.html#Creating-series-and-frames"
   ]
  },
  {
   "cell_type": "code",
   "execution_count": null,
   "metadata": {},
   "outputs": [],
   "source": []
  },
  {
   "cell_type": "code",
   "execution_count": null,
   "metadata": {},
   "outputs": [],
   "source": []
  },
  {
   "cell_type": "code",
   "execution_count": null,
   "metadata": {},
   "outputs": [],
   "source": []
  },
  {
   "cell_type": "markdown",
   "metadata": {},
   "source": [
    "Getting formatting? GitHub dependencies https://github.com/fsprojects/IfSharp/pull/179 thanks to Людмила Мухаметдинова (Lucy Mu) and of course Paket itself\n",
    "\n"
   ]
  },
  {
   "cell_type": "code",
   "execution_count": null,
   "metadata": {},
   "outputs": [],
   "source": []
  },
  {
   "cell_type": "markdown",
   "metadata": {},
   "source": [
    "https://github.com/mndrake/IfSharpLab thanks to David Carlson"
   ]
  },
  {
   "cell_type": "code",
   "execution_count": null,
   "metadata": {},
   "outputs": [],
   "source": []
  },
  {
   "cell_type": "code",
   "execution_count": null,
   "metadata": {},
   "outputs": [],
   "source": []
  },
  {
   "cell_type": "code",
   "execution_count": null,
   "metadata": {},
   "outputs": [],
   "source": []
  },
  {
   "cell_type": "markdown",
   "metadata": {},
   "source": [
    "Don't want to hard code all our data in!"
   ]
  },
  {
   "cell_type": "markdown",
   "metadata": {},
   "source": [
    "https://datahelpdesk.worldbank.org/knowledgebase/articles/902061-climate-data-api\n",
    "\n",
    "http://climatedataapi.worldbank.org/climateweb/rest/v1/country/cru/tas/month/USA.csv"
   ]
  },
  {
   "cell_type": "markdown",
   "metadata": {},
   "source": [
    "Ignore this I guess? Can a Deedle expert explain?\n",
    "\n",
    "https://stackoverflow.com/questions/42671973/why-frame-x-static-methods-from-deedle-are-generating-warnings-in-vs-2017\n",
    "https://github.com/fslaborg/Deedle/blob/d4acfa54f4112ac8143db9ba55b138fcff2b8c10/src/Deedle/FrameExtensions.fs#L91"
   ]
  },
  {
   "cell_type": "code",
   "execution_count": null,
   "metadata": {},
   "outputs": [],
   "source": []
  },
  {
   "cell_type": "code",
   "execution_count": null,
   "metadata": {},
   "outputs": [],
   "source": []
  }
 ],
 "metadata": {
  "kernelspec": {
   "display_name": "F#",
   "language": "fsharp",
   "name": "ifsharp"
  },
  "language": "fsharp",
  "language_info": {
   "codemirror_mode": "",
   "file_extension": ".fs",
   "mimetype": "text/x-fsharp",
   "name": "fsharp",
   "nbconvert_exporter": "",
   "pygments_lexer": "",
   "version": "4.3.1.0"
  }
 },
 "nbformat": 4,
 "nbformat_minor": 2
}
